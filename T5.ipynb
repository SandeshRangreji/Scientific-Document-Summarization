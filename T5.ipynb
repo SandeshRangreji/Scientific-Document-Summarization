{
  "nbformat": 4,
  "nbformat_minor": 0,
  "metadata": {
    "colab": {
      "provenance": [],
      "collapsed_sections": [],
      "machine_shape": "hm",
      "include_colab_link": true
    },
    "kernelspec": {
      "name": "python3",
      "display_name": "Python 3"
    },
    "language_info": {
      "name": "python"
    },
    "accelerator": "GPU"
  },
  "cells": [
    {
      "cell_type": "markdown",
      "metadata": {
        "id": "view-in-github",
        "colab_type": "text"
      },
      "source": [
        "<a href=\"https://colab.research.google.com/github/SandeshRangreji/Scientific-Document-Summarization/blob/main/T5.ipynb\" target=\"_parent\"><img src=\"https://colab.research.google.com/assets/colab-badge.svg\" alt=\"Open In Colab\"/></a>"
      ]
    },
    {
      "cell_type": "code",
      "metadata": {
        "id": "hYZAVsfu9Q2J"
      },
      "source": [
        "!pip install sentencepiece"
      ],
      "execution_count": null,
      "outputs": []
    },
    {
      "cell_type": "code",
      "metadata": {
        "id": "xT9plTMom8KV"
      },
      "source": [
        "!pip install transformers"
      ],
      "execution_count": null,
      "outputs": []
    },
    {
      "cell_type": "code",
      "metadata": {
        "id": "nYKl-wZT8icx"
      },
      "source": [
        "import tensorflow as tf\n",
        "import numpy as np\n",
        "from transformers import TFAutoModelForSeq2SeqLM, AutoTokenizer, T5ForConditionalGeneration\n",
        "import xml.etree.ElementTree as ET\n",
        "from google.colab import drive\n",
        "import os"
      ],
      "execution_count": null,
      "outputs": []
    },
    {
      "cell_type": "code",
      "metadata": {
        "id": "b2CH1PAe9VyE",
        "colab": {
          "base_uri": "https://localhost:8080/"
        },
        "outputId": "1bf2a574-e5af-48a0-fcdf-872b51c7f8ef"
      },
      "source": [
        "drive.mount('/content/drive', force_remount=True)"
      ],
      "execution_count": null,
      "outputs": [
        {
          "output_type": "stream",
          "name": "stdout",
          "text": [
            "Mounted at /content/drive\n"
          ]
        }
      ]
    },
    {
      "cell_type": "code",
      "metadata": {
        "id": "FwXQRtkU9mBw"
      },
      "source": [
        "os.mkdir(\"/content/PGN\")\n",
        "os.mkdir(\"/content/PGN/data\")"
      ],
      "execution_count": null,
      "outputs": []
    },
    {
      "cell_type": "code",
      "metadata": {
        "id": "DxzJuF_fK2rx"
      },
      "source": [
        "!unzip \"/content/drive/MyDrive/Pointer Generator Networks/Data/scisumm.zip\" -d \"/content/PGN/data/\""
      ],
      "execution_count": null,
      "outputs": []
    },
    {
      "cell_type": "code",
      "metadata": {
        "colab": {
          "base_uri": "https://localhost:8080/"
        },
        "id": "2ki9JaMAPQMF",
        "outputId": "9f385c8f-6445-40fa-8eab-da8ee9e7cd46"
      },
      "source": [
        "path = \"/content/PGN/data/scisummnet_release1.1__20190413/top1000_complete/\"\n",
        "dir_list = os.listdir(path)\n",
        "print(len(dir_list))"
      ],
      "execution_count": null,
      "outputs": [
        {
          "output_type": "stream",
          "name": "stdout",
          "text": [
            "1009\n"
          ]
        }
      ]
    },
    {
      "cell_type": "code",
      "metadata": {
        "id": "iigmuI87NooI"
      },
      "source": [
        "def get_text(xmlfile):\n",
        " sections = []\n",
        " intro_flag = False\n",
        " conclusion_flag = False\n",
        " tree = ET.parse(xmlfile)\n",
        " root = tree.getroot()\n",
        " for child in root:\n",
        "  text = \"\"\n",
        "  if child.tag != \"S\":\n",
        "   if (child.attrib.get(\"title\", child.tag).find(\"Introduction\") != -1) and not intro_flag:\n",
        "    intro_flag = True\n",
        "    for grandchild in child:\n",
        "     text = text + \" \" + grandchild.text\n",
        "   if (child.attrib.get(\"title\", child.tag).find(\"Conclusion\") != -1) and not conclusion_flag:\n",
        "    conclusion_flag = True\n",
        "    for grandchild in child:\n",
        "     text = text + \" \" + grandchild.text\n",
        "  if text != \"\":\n",
        "   sections.append(text)\n",
        " return sections, (intro_flag and conclusion_flag)"
      ],
      "execution_count": null,
      "outputs": []
    },
    {
      "cell_type": "code",
      "metadata": {
        "id": "u__w7DH0US_r",
        "colab": {
          "base_uri": "https://localhost:8080/"
        },
        "outputId": "ca511a3f-978f-4ef2-bd15-f070262cf426"
      },
      "source": [
        "a, b = get_text(\"/content/PGN/data/scisummnet_release1.1__20190413/top1000_complete/A00-1031/Documents_xml/A00-1031.xml\") \n",
        "print((len(a)))    "
      ],
      "execution_count": null,
      "outputs": [
        {
          "output_type": "stream",
          "name": "stdout",
          "text": [
            "2\n"
          ]
        }
      ]
    },
    {
      "cell_type": "code",
      "metadata": {
        "id": "2k54XZ1VN7hf"
      },
      "source": [
        "def get_articles(dir_list):\n",
        "  articles = []\n",
        "  blacklist = []\n",
        "  articles_index = []\n",
        "  total = 0\n",
        "  for file_name in dir_list:\n",
        "    if file_name not in blacklist:\n",
        "      xmlfile = \"/content/PGN/data/scisummnet_release1.1__20190413/top1000_complete/\" + file_name + \"/Documents_xml/\" + file_name + \".xml\"\n",
        "      try:\n",
        "        sections, flag = get_text(xmlfile)\n",
        "        if flag == False:\n",
        "          total+=1\n",
        "        else:\n",
        "          articles.append(sections)\n",
        "          articles_index.append(xmlfile)\n",
        "      except:\n",
        "        blacklist.append(file_name)\n",
        "  return articles, total, articles_index"
      ],
      "execution_count": null,
      "outputs": []
    },
    {
      "cell_type": "code",
      "metadata": {
        "id": "_nx61THrN8gZ"
      },
      "source": [
        "def word_count(sent):\n",
        "  return len(sent.split(\" \"))"
      ],
      "execution_count": null,
      "outputs": []
    },
    {
      "cell_type": "code",
      "metadata": {
        "id": "W8HzZgGPN-TR"
      },
      "source": [
        "articles, total, articles_index = get_articles(dir_list)"
      ],
      "execution_count": null,
      "outputs": []
    },
    {
      "cell_type": "code",
      "metadata": {
        "colab": {
          "base_uri": "https://localhost:8080/"
        },
        "id": "0KMrtsBtUHw_",
        "outputId": "15364e64-62b7-492a-ac0f-48ad8761f37c"
      },
      "source": [
        "len(articles)"
      ],
      "execution_count": null,
      "outputs": [
        {
          "output_type": "execute_result",
          "data": {
            "text/plain": [
              "566"
            ]
          },
          "metadata": {},
          "execution_count": 13
        }
      ]
    },
    {
      "cell_type": "code",
      "metadata": {
        "id": "853-daPZcCTF"
      },
      "source": [
        "model = TFAutoModelForSeq2SeqLM.from_pretrained('t5-small')\n",
        "tokenizer = AutoTokenizer.from_pretrained('t5-small')"
      ],
      "execution_count": null,
      "outputs": []
    },
    {
      "cell_type": "code",
      "metadata": {
        "id": "JOS6GlwVatKx"
      },
      "source": [
        "def get_reference_summaries(articles_index):\n",
        "  reference_summaries = []\n",
        "  for file_name in articles_index:\n",
        "    start_index = file_name.find(\"top1000_complete/\") + 17\n",
        "    end_index = file_name.find(\"/Documents_xml\")\n",
        "    file_name = file_name[start_index:end_index]\n",
        "    ref_sum_file = \"/content/PGN/data/scisummnet_release1.1__20190413/top1000_complete/\" + file_name + \"/summary/\" + file_name + \".gold.txt\"\n",
        "    reference_summary = open(ref_sum_file, \"r\")\n",
        "    reference_summaries.append(reference_summary.read())\n",
        "  return reference_summaries"
      ],
      "execution_count": null,
      "outputs": []
    },
    {
      "cell_type": "code",
      "metadata": {
        "id": "vgyZc8A7atHG"
      },
      "source": [
        "reference_summaries = get_reference_summaries(articles_index)"
      ],
      "execution_count": null,
      "outputs": []
    },
    {
      "cell_type": "code",
      "metadata": {
        "colab": {
          "base_uri": "https://localhost:8080/"
        },
        "id": "YIVRRWSBdU7B",
        "outputId": "ab9acd6b-89d4-4d03-bc41-8986c0dc9096"
      },
      "source": [
        "len(reference_summaries)"
      ],
      "execution_count": null,
      "outputs": [
        {
          "output_type": "execute_result",
          "data": {
            "text/plain": [
              "566"
            ]
          },
          "metadata": {},
          "execution_count": 17
        }
      ]
    },
    {
      "cell_type": "code",
      "metadata": {
        "id": "GEH6P6IDatCh"
      },
      "source": [
        "def get_tokens(articles, summaries):\n",
        "  input_tokens_li = []\n",
        "  output_tokens_li = []\n",
        "  for i in range(len(articles)):\n",
        "    article = \" \".join(articles[i])\n",
        "    input_tokens = tokenizer(article, return_tensors='tf', truncation=True, padding='max_length', max_length=512)\n",
        "    input_tokens_li.append(input_tokens.data)\n",
        "    output_tokens = tokenizer(summaries[i], return_tensors='tf', truncation=True, padding='max_length', max_length=128)\n",
        "    output_tokens_li.append(output_tokens.data)\n",
        "  return input_tokens_li, output_tokens_li"
      ],
      "execution_count": null,
      "outputs": []
    },
    {
      "cell_type": "code",
      "metadata": {
        "id": "TwtsBPdhas6J"
      },
      "source": [
        "train_input_tokens, train_output_tokens = get_tokens(articles[:460], reference_summaries[:460])\n",
        "val_input_tokens, val_output_tokens = get_tokens(articles[461:], reference_summaries[461:])"
      ],
      "execution_count": null,
      "outputs": []
    },
    {
      "cell_type": "code",
      "metadata": {
        "id": "WwoQ_ZL7SOmR"
      },
      "source": [
        "def get_average_article_len():\n",
        "  lens = []\n",
        "  count = []\n",
        "  for article in articles:\n",
        "    lens.append(len(\" \".join(article)))\n",
        "    count.append(1)\n",
        "  print(sum(lens)/sum(count))\n",
        "\n",
        "def get_average_summary_len():\n",
        "  lens = []\n",
        "  count = []\n",
        "  for summary in reference_summaries:\n",
        "    lens.append(len(summary))\n",
        "    count.append(1)\n",
        "  print(sum(lens)/sum(count))"
      ],
      "execution_count": null,
      "outputs": []
    },
    {
      "cell_type": "code",
      "metadata": {
        "colab": {
          "base_uri": "https://localhost:8080/"
        },
        "id": "3otw_2UXRTZN",
        "outputId": "3eecdf26-d54c-4c95-b410-bcc15727ce23"
      },
      "source": [
        "print(len(train_input_tokens), len(train_output_tokens))\n",
        "print(len(val_input_tokens), len(val_output_tokens))"
      ],
      "execution_count": null,
      "outputs": [
        {
          "output_type": "stream",
          "name": "stdout",
          "text": [
            "460 460\n",
            "105 105\n"
          ]
        }
      ]
    },
    {
      "cell_type": "code",
      "metadata": {
        "id": "ycZW3o-fFm5D"
      },
      "source": [
        "input_sequences = []\n",
        "for article in articles:\n",
        "  input_sequences.append(\" \".join(article))"
      ],
      "execution_count": null,
      "outputs": []
    },
    {
      "cell_type": "code",
      "metadata": {
        "id": "-WQgSFk8U-mM"
      },
      "source": [
        "task_prefix = \"summarize: \"\n",
        "max_source_length = 512\n",
        "max_target_length = 128\n",
        "dataset_size = 566\n",
        "validation_split = 400"
      ],
      "execution_count": null,
      "outputs": []
    },
    {
      "cell_type": "code",
      "metadata": {
        "id": "1Zq1avzBUncd"
      },
      "source": [
        "initial_learning_rate = 0.00005\n",
        "optimizer = tf.keras.optimizers.Adam(learning_rate=initial_learning_rate)"
      ],
      "execution_count": null,
      "outputs": []
    },
    {
      "cell_type": "code",
      "metadata": {
        "id": "44EVxdWTbSwy"
      },
      "source": [
        "def train_step():\n",
        "  for j in range(validation_split):\n",
        "    with tf.GradientTape() as tape:\n",
        "      encoding = tokenizer(task_prefix + input_sequences[j],\n",
        "                      padding='longest',\n",
        "                      max_length=max_source_length,\n",
        "                      truncation=True,\n",
        "                      return_tensors=\"tf\")\n",
        "      input_ids, attention_mask = encoding.input_ids, encoding.attention_mask\n",
        "      target_encoding = tokenizer(reference_summaries[j],\n",
        "                              padding='longest',\n",
        "                              max_length=max_target_length,\n",
        "                              truncation=True,\n",
        "                              return_tensors=\"tf\")\n",
        "      labels = target_encoding.input_ids\n",
        "      labels = tf.convert_to_tensor(labels)\n",
        "      loss = model(input_ids=input_ids, attention_mask=attention_mask, labels=labels).loss\n",
        "      # loss = tf.reduce_mean(loss)\n",
        "      variables = model.trainable_variables\n",
        "      gradients = tape.gradient(loss, variables)\n",
        "      optimizer.apply_gradients(zip(gradients, variables))\n",
        "  return tf.reduce_mean(loss)"
      ],
      "execution_count": null,
      "outputs": []
    },
    {
      "cell_type": "code",
      "metadata": {
        "id": "okkIEkGvc1pQ"
      },
      "source": [
        "def val_step():\n",
        "  model.trainable = False\n",
        "  for j in range(validation_split, dataset_size):\n",
        "    with tf.GradientTape() as tape:\n",
        "      encoding = tokenizer(task_prefix + input_sequences[j],\n",
        "                      padding='longest',\n",
        "                      max_length=max_source_length,\n",
        "                      truncation=True,\n",
        "                      return_tensors=\"tf\")\n",
        "      input_ids, attention_mask = encoding.input_ids, encoding.attention_mask\n",
        "      target_encoding = tokenizer(reference_summaries[j],\n",
        "                              padding='longest',\n",
        "                              max_length=max_target_length,\n",
        "                              truncation=True,\n",
        "                              return_tensors=\"tf\")\n",
        "      labels = target_encoding.input_ids\n",
        "      labels = tf.convert_to_tensor(labels)\n",
        "      loss = model(input_ids=input_ids, attention_mask=attention_mask, labels=labels).loss\n",
        "      # loss = tf.reduce_mean(loss)\n",
        "      # variables = model.trainable_variables\n",
        "      # gradients = tape.gradient(loss, variables)\n",
        "      # optimizer.apply_gradients(zip(gradients, variables))\n",
        "  model.trainable = True\n",
        "  return tf.reduce_mean(loss)"
      ],
      "execution_count": null,
      "outputs": []
    },
    {
      "cell_type": "code",
      "metadata": {
        "colab": {
          "base_uri": "https://localhost:8080/"
        },
        "id": "lPd9FIJJKJMl",
        "outputId": "da046680-5b31-4d9a-9b23-73e943f3d301"
      },
      "source": [
        "EPOCHS = 5\n",
        "train_losses = []\n",
        "validation_losses = []\n",
        "for i in range(EPOCHS):\n",
        "  train_loss = train_step()\n",
        "  validation_loss = val_step()\n",
        "  train_losses.append(train_loss)\n",
        "  validation_losses.append(validation_loss)\n",
        "  print(\"Epoch \" + str(i+1) + \":\")\n",
        "  print(\"Train Loss: \" + str(train_loss))\n",
        "  print(\"Validation Loss: \" + str(validation_loss))\n",
        "  print()"
      ],
      "execution_count": null,
      "outputs": [
        {
          "output_type": "stream",
          "name": "stdout",
          "text": [
            "Epoch 1:\n",
            "Train Loss: tf.Tensor(2.549662, shape=(), dtype=float32)\n",
            "Validation Loss: tf.Tensor(3.494061, shape=(), dtype=float32)\n",
            "\n",
            "Epoch 2:\n",
            "Train Loss: tf.Tensor(2.3398397, shape=(), dtype=float32)\n",
            "Validation Loss: tf.Tensor(3.534045, shape=(), dtype=float32)\n",
            "\n",
            "Epoch 3:\n",
            "Train Loss: tf.Tensor(2.118999, shape=(), dtype=float32)\n",
            "Validation Loss: tf.Tensor(3.6433196, shape=(), dtype=float32)\n",
            "\n",
            "Epoch 4:\n",
            "Train Loss: tf.Tensor(1.8659925, shape=(), dtype=float32)\n",
            "Validation Loss: tf.Tensor(3.8027773, shape=(), dtype=float32)\n",
            "\n",
            "Epoch 5:\n",
            "Train Loss: tf.Tensor(1.6110436, shape=(), dtype=float32)\n",
            "Validation Loss: tf.Tensor(4.043771, shape=(), dtype=float32)\n",
            "\n"
          ]
        }
      ]
    },
    {
      "cell_type": "code",
      "metadata": {
        "colab": {
          "base_uri": "https://localhost:8080/",
          "height": 283
        },
        "id": "2u60UgI5gLN3",
        "outputId": "4d45607b-db92-43c9-8f23-bf5d5921d4dd"
      },
      "source": [
        "import matplotlib.pyplot as plt\n",
        "plt.plot(train_losses, label=\"Training Loss\")\n",
        "plt.plot(validation_losses, label=\"Validation Loss\")\n",
        "plt.legend()"
      ],
      "execution_count": null,
      "outputs": [
        {
          "output_type": "execute_result",
          "data": {
            "text/plain": [
              "<matplotlib.legend.Legend at 0x7f1024f8ce90>"
            ]
          },
          "metadata": {},
          "execution_count": 42
        },
        {
          "output_type": "display_data",
          "data": {
            "image/png": "[encoded data removed]",
            "text/plain": [
              "<Figure size 432x288 with 1 Axes>"
            ]
          },
          "metadata": {
            "needs_background": "light"
          }
        }
      ]
    },
    {
      "cell_type": "code",
      "metadata": {
        "colab": {
          "base_uri": "https://localhost:8080/"
        },
        "id": "AzqbGG7ykEGy",
        "outputId": "2c028b88-f562-489b-a46f-cab4cf92bcfe"
      },
      "source": [
        "inference_input_ids = tokenizer(task_prefix + input_sequences[501], padding='max_length',\n",
        "                      max_length=2048,\n",
        "                      truncation=True,\n",
        "                      return_tensors=\"tf\").input_ids\n",
        "outputs = model.generate(inference_input_ids)\n",
        "print(tokenizer.decode(outputs[0], skip_special_tokens=True))"
      ],
      "execution_count": null,
      "outputs": [
        {
          "output_type": "stream",
          "name": "stdout",
          "text": [
            "Clustering Polysemic SCF Distributions From Lexical Lexicon Verb Subcate\n"
          ]
        }
      ]
    },
    {
      "cell_type": "code",
      "metadata": {
        "id": "f4CoLSFQlq0T"
      },
      "source": [
        "c = 0\n",
        "for i in (inference_input_ids[0]):\n",
        "  print(c, i)\n",
        "  c+=1"
      ],
      "execution_count": null,
      "outputs": []
    },
    {
      "cell_type": "code",
      "metadata": {
        "colab": {
          "base_uri": "https://localhost:8080/",
          "height": 146
        },
        "id": "0_wgWVlxlCzW",
        "outputId": "304d11a8-f2c9-4483-c965-91bc47d9dc5f"
      },
      "source": [
        "reference_summaries[500]"
      ],
      "execution_count": null,
      "outputs": [
        {
          "output_type": "execute_result",
          "data": {
            "application/vnd.google.colaboratory.intrinsic+json": {
              "type": "string"
            },
            "text/plain": [
              "'A Statistical Model For Multilingual Entity Detection And Tracking\\nEntity detection and tracking is a relatively new addition to the repertoire of natural language tasks.\\nIn this paper, we present a statistical language-independent framework for identifying and tracking named, nominal and pronominal references to entities within unrestricted text documents, and chaining them into clusters corresponding to each logical entity present in the text.\\nBoth the mention detection model and the novel entity tracking model can use arbitrary feature types, being able to integrate a wide array of lexical, syntactic and semantic features.\\nIn addition, the mention detection model crucially uses feature streams derived from different named entity classifiers.\\nThe proposed framework is evaluated with several experiments run in Arabic, Chinese and English texts; a system based on the approach described here and submitted to the latest Automatic Content Extraction (ACE) evaluation achieved top-tier results in all three evaluation languages.\\n'"
            ]
          },
          "metadata": {},
          "execution_count": 47
        }
      ]
    },
    {
      "cell_type": "code",
      "metadata": {
        "colab": {
          "base_uri": "https://localhost:8080/"
        },
        "id": "IkgSzTf6lWyM",
        "outputId": "6242dab7-602e-45d4-b5e7-d4955f17c9df"
      },
      "source": [
        "len(articles[500][0])"
      ],
      "execution_count": null,
      "outputs": [
        {
          "output_type": "execute_result",
          "data": {
            "text/plain": [
              "4756"
            ]
          },
          "metadata": {},
          "execution_count": 52
        }
      ]
    },
    {
      "cell_type": "code",
      "metadata": {
        "id": "4pwnk9JtR3y7"
      },
      "source": [
        "# tf.Tensor(3.1021361, shape=(), dtype=float32)\n",
        "# tf.Tensor(2.7721298, shape=(), dtype=float32)\n",
        "# tf.Tensor(2.454471, shape=(), dtype=float32)\n",
        "# tf.Tensor(2.0970745, shape=(), dtype=float32)\n",
        "# tf.Tensor(1.7260841, shape=(), dtype=float32)"
      ],
      "execution_count": null,
      "outputs": []
    },
    {
      "cell_type": "code",
      "metadata": {
        "colab": {
          "base_uri": "https://localhost:8080/"
        },
        "id": "ZfU85KH9spFP",
        "outputId": "bb972563-e367-4922-9a9e-f89fe5867333"
      },
      "source": [
        "print(tf.reduce_mean(loss))"
      ],
      "execution_count": null,
      "outputs": [
        {
          "output_type": "stream",
          "name": "stdout",
          "text": [
            "tf.Tensor(1.6692624, shape=(), dtype=float32)\n"
          ]
        }
      ]
    },
    {
      "cell_type": "code",
      "metadata": {
        "id": "z4whDTDKsux8"
      },
      "source": [
        "# Save the weights\n",
        "model.save_weights('/content/drive/MyDrive/Pointer Generator Networks/T5/T5_small')"
      ],
      "execution_count": null,
      "outputs": []
    },
    {
      "cell_type": "code",
      "metadata": {
        "id": "J0jeeRPc5ptx"
      },
      "source": [
        "model.save_weights('/content/PGN')"
      ],
      "execution_count": null,
      "outputs": []
    },
    {
      "cell_type": "code",
      "metadata": {
        "id": "6w9jzlI58A6i",
        "colab": {
          "base_uri": "https://localhost:8080/",
          "height": 327
        },
        "outputId": "fa87b1b8-7762-43c5-a3ef-9db313edeba1"
      },
      "source": [
        "print(\"hi\" + train_loss)"
      ],
      "execution_count": null,
      "outputs": [
        {
          "output_type": "error",
          "ename": "TypeError",
          "evalue": "ignored",
          "traceback": [
            "\u001b[0;31m---------------------------------------------------------------------------\u001b[0m",
            "\u001b[0;31mTypeError\u001b[0m                                 Traceback (most recent call last)",
            "\u001b[0;32m<ipython-input-39-03dd31155958>\u001b[0m in \u001b[0;36m<module>\u001b[0;34m()\u001b[0m\n\u001b[0;32m----> 1\u001b[0;31m \u001b[0mprint\u001b[0m\u001b[0;34m(\u001b[0m\u001b[0;34m\"hi\"\u001b[0m \u001b[0;34m+\u001b[0m \u001b[0mtrain_loss\u001b[0m\u001b[0;34m)\u001b[0m\u001b[0;34m\u001b[0m\u001b[0;34m\u001b[0m\u001b[0m\n\u001b[0m",
            "\u001b[0;32m/usr/local/lib/python3.7/dist-packages/tensorflow/python/ops/math_ops.py\u001b[0m in \u001b[0;36mr_binary_op_wrapper\u001b[0;34m(y, x)\u001b[0m\n\u001b[1;32m   1397\u001b[0m       \u001b[0;31m# TODO(b/178860388): Figure out why binary_op_wrapper and\u001b[0m\u001b[0;34m\u001b[0m\u001b[0;34m\u001b[0m\u001b[0;34m\u001b[0m\u001b[0m\n\u001b[1;32m   1398\u001b[0m       \u001b[0;31m#   r_binary_op_wrapper use different force_same_dtype values.\u001b[0m\u001b[0;34m\u001b[0m\u001b[0;34m\u001b[0m\u001b[0;34m\u001b[0m\u001b[0m\n\u001b[0;32m-> 1399\u001b[0;31m       \u001b[0my\u001b[0m\u001b[0;34m,\u001b[0m \u001b[0mx\u001b[0m \u001b[0;34m=\u001b[0m \u001b[0mmaybe_promote_tensors\u001b[0m\u001b[0;34m(\u001b[0m\u001b[0my\u001b[0m\u001b[0;34m,\u001b[0m \u001b[0mx\u001b[0m\u001b[0;34m)\u001b[0m\u001b[0;34m\u001b[0m\u001b[0;34m\u001b[0m\u001b[0m\n\u001b[0m\u001b[1;32m   1400\u001b[0m       \u001b[0;32mreturn\u001b[0m \u001b[0mfunc\u001b[0m\u001b[0;34m(\u001b[0m\u001b[0mx\u001b[0m\u001b[0;34m,\u001b[0m \u001b[0my\u001b[0m\u001b[0;34m,\u001b[0m \u001b[0mname\u001b[0m\u001b[0;34m=\u001b[0m\u001b[0mname\u001b[0m\u001b[0;34m)\u001b[0m\u001b[0;34m\u001b[0m\u001b[0;34m\u001b[0m\u001b[0m\n\u001b[1;32m   1401\u001b[0m \u001b[0;34m\u001b[0m\u001b[0m\n",
            "\u001b[0;32m/usr/local/lib/python3.7/dist-packages/tensorflow/python/ops/math_ops.py\u001b[0m in \u001b[0;36mmaybe_promote_tensors\u001b[0;34m(force_same_dtype, *tensors)\u001b[0m\n\u001b[1;32m   1333\u001b[0m     \u001b[0;32mfor\u001b[0m \u001b[0mtensor\u001b[0m \u001b[0;32min\u001b[0m \u001b[0mtensors\u001b[0m\u001b[0;34m[\u001b[0m\u001b[0;36m1\u001b[0m\u001b[0;34m:\u001b[0m\u001b[0;34m]\u001b[0m\u001b[0;34m:\u001b[0m\u001b[0;34m\u001b[0m\u001b[0;34m\u001b[0m\u001b[0m\n\u001b[1;32m   1334\u001b[0m       promoted_tensors.append(\n\u001b[0;32m-> 1335\u001b[0;31m           ops.convert_to_tensor(tensor, dtype, name=\"x\"))\n\u001b[0m\u001b[1;32m   1336\u001b[0m     \u001b[0;32mreturn\u001b[0m \u001b[0mpromoted_tensors\u001b[0m\u001b[0;34m\u001b[0m\u001b[0;34m\u001b[0m\u001b[0m\n\u001b[1;32m   1337\u001b[0m   result_type = np_dtypes._result_type(\n",
            "\u001b[0;32m/usr/local/lib/python3.7/dist-packages/tensorflow/python/profiler/trace.py\u001b[0m in \u001b[0;36mwrapped\u001b[0;34m(*args, **kwargs)\u001b[0m\n\u001b[1;32m    161\u001b[0m         \u001b[0;32mwith\u001b[0m \u001b[0mTrace\u001b[0m\u001b[0;34m(\u001b[0m\u001b[0mtrace_name\u001b[0m\u001b[0;34m,\u001b[0m \u001b[0;34m**\u001b[0m\u001b[0mtrace_kwargs\u001b[0m\u001b[0;34m)\u001b[0m\u001b[0;34m:\u001b[0m\u001b[0;34m\u001b[0m\u001b[0;34m\u001b[0m\u001b[0m\n\u001b[1;32m    162\u001b[0m           \u001b[0;32mreturn\u001b[0m \u001b[0mfunc\u001b[0m\u001b[0;34m(\u001b[0m\u001b[0;34m*\u001b[0m\u001b[0margs\u001b[0m\u001b[0;34m,\u001b[0m \u001b[0;34m**\u001b[0m\u001b[0mkwargs\u001b[0m\u001b[0;34m)\u001b[0m\u001b[0;34m\u001b[0m\u001b[0;34m\u001b[0m\u001b[0m\n\u001b[0;32m--> 163\u001b[0;31m       \u001b[0;32mreturn\u001b[0m \u001b[0mfunc\u001b[0m\u001b[0;34m(\u001b[0m\u001b[0;34m*\u001b[0m\u001b[0margs\u001b[0m\u001b[0;34m,\u001b[0m \u001b[0;34m**\u001b[0m\u001b[0mkwargs\u001b[0m\u001b[0;34m)\u001b[0m\u001b[0;34m\u001b[0m\u001b[0;34m\u001b[0m\u001b[0m\n\u001b[0m\u001b[1;32m    164\u001b[0m \u001b[0;34m\u001b[0m\u001b[0m\n\u001b[1;32m    165\u001b[0m     \u001b[0;32mreturn\u001b[0m \u001b[0mwrapped\u001b[0m\u001b[0;34m\u001b[0m\u001b[0;34m\u001b[0m\u001b[0m\n",
            "\u001b[0;32m/usr/local/lib/python3.7/dist-packages/tensorflow/python/framework/ops.py\u001b[0m in \u001b[0;36mconvert_to_tensor\u001b[0;34m(value, dtype, name, as_ref, preferred_dtype, dtype_hint, ctx, accepted_result_types)\u001b[0m\n\u001b[1;32m   1564\u001b[0m \u001b[0;34m\u001b[0m\u001b[0m\n\u001b[1;32m   1565\u001b[0m     \u001b[0;32mif\u001b[0m \u001b[0mret\u001b[0m \u001b[0;32mis\u001b[0m \u001b[0;32mNone\u001b[0m\u001b[0;34m:\u001b[0m\u001b[0;34m\u001b[0m\u001b[0;34m\u001b[0m\u001b[0m\n\u001b[0;32m-> 1566\u001b[0;31m       \u001b[0mret\u001b[0m \u001b[0;34m=\u001b[0m \u001b[0mconversion_func\u001b[0m\u001b[0;34m(\u001b[0m\u001b[0mvalue\u001b[0m\u001b[0;34m,\u001b[0m \u001b[0mdtype\u001b[0m\u001b[0;34m=\u001b[0m\u001b[0mdtype\u001b[0m\u001b[0;34m,\u001b[0m \u001b[0mname\u001b[0m\u001b[0;34m=\u001b[0m\u001b[0mname\u001b[0m\u001b[0;34m,\u001b[0m \u001b[0mas_ref\u001b[0m\u001b[0;34m=\u001b[0m\u001b[0mas_ref\u001b[0m\u001b[0;34m)\u001b[0m\u001b[0;34m\u001b[0m\u001b[0;34m\u001b[0m\u001b[0m\n\u001b[0m\u001b[1;32m   1567\u001b[0m \u001b[0;34m\u001b[0m\u001b[0m\n\u001b[1;32m   1568\u001b[0m     \u001b[0;32mif\u001b[0m \u001b[0mret\u001b[0m \u001b[0;32mis\u001b[0m \u001b[0mNotImplemented\u001b[0m\u001b[0;34m:\u001b[0m\u001b[0;34m\u001b[0m\u001b[0;34m\u001b[0m\u001b[0m\n",
            "\u001b[0;32m/usr/local/lib/python3.7/dist-packages/tensorflow/python/framework/constant_op.py\u001b[0m in \u001b[0;36m_constant_tensor_conversion_function\u001b[0;34m(v, dtype, name, as_ref)\u001b[0m\n\u001b[1;32m    344\u001b[0m                                          as_ref=False):\n\u001b[1;32m    345\u001b[0m   \u001b[0m_\u001b[0m \u001b[0;34m=\u001b[0m \u001b[0mas_ref\u001b[0m\u001b[0;34m\u001b[0m\u001b[0;34m\u001b[0m\u001b[0m\n\u001b[0;32m--> 346\u001b[0;31m   \u001b[0;32mreturn\u001b[0m \u001b[0mconstant\u001b[0m\u001b[0;34m(\u001b[0m\u001b[0mv\u001b[0m\u001b[0;34m,\u001b[0m \u001b[0mdtype\u001b[0m\u001b[0;34m=\u001b[0m\u001b[0mdtype\u001b[0m\u001b[0;34m,\u001b[0m \u001b[0mname\u001b[0m\u001b[0;34m=\u001b[0m\u001b[0mname\u001b[0m\u001b[0;34m)\u001b[0m\u001b[0;34m\u001b[0m\u001b[0;34m\u001b[0m\u001b[0m\n\u001b[0m\u001b[1;32m    347\u001b[0m \u001b[0;34m\u001b[0m\u001b[0m\n\u001b[1;32m    348\u001b[0m \u001b[0;34m\u001b[0m\u001b[0m\n",
            "\u001b[0;32m/usr/local/lib/python3.7/dist-packages/tensorflow/python/framework/constant_op.py\u001b[0m in \u001b[0;36mconstant\u001b[0;34m(value, dtype, shape, name)\u001b[0m\n\u001b[1;32m    270\u001b[0m   \"\"\"\n\u001b[1;32m    271\u001b[0m   return _constant_impl(value, dtype, shape, name, verify_shape=False,\n\u001b[0;32m--> 272\u001b[0;31m                         allow_broadcast=True)\n\u001b[0m\u001b[1;32m    273\u001b[0m \u001b[0;34m\u001b[0m\u001b[0m\n\u001b[1;32m    274\u001b[0m \u001b[0;34m\u001b[0m\u001b[0m\n",
            "\u001b[0;32m/usr/local/lib/python3.7/dist-packages/tensorflow/python/framework/constant_op.py\u001b[0m in \u001b[0;36m_constant_impl\u001b[0;34m(value, dtype, shape, name, verify_shape, allow_broadcast)\u001b[0m\n\u001b[1;32m    281\u001b[0m       \u001b[0;32mwith\u001b[0m \u001b[0mtrace\u001b[0m\u001b[0;34m.\u001b[0m\u001b[0mTrace\u001b[0m\u001b[0;34m(\u001b[0m\u001b[0;34m\"tf.constant\"\u001b[0m\u001b[0;34m)\u001b[0m\u001b[0;34m:\u001b[0m\u001b[0;34m\u001b[0m\u001b[0;34m\u001b[0m\u001b[0m\n\u001b[1;32m    282\u001b[0m         \u001b[0;32mreturn\u001b[0m \u001b[0m_constant_eager_impl\u001b[0m\u001b[0;34m(\u001b[0m\u001b[0mctx\u001b[0m\u001b[0;34m,\u001b[0m \u001b[0mvalue\u001b[0m\u001b[0;34m,\u001b[0m \u001b[0mdtype\u001b[0m\u001b[0;34m,\u001b[0m \u001b[0mshape\u001b[0m\u001b[0;34m,\u001b[0m \u001b[0mverify_shape\u001b[0m\u001b[0;34m)\u001b[0m\u001b[0;34m\u001b[0m\u001b[0;34m\u001b[0m\u001b[0m\n\u001b[0;32m--> 283\u001b[0;31m     \u001b[0;32mreturn\u001b[0m \u001b[0m_constant_eager_impl\u001b[0m\u001b[0;34m(\u001b[0m\u001b[0mctx\u001b[0m\u001b[0;34m,\u001b[0m \u001b[0mvalue\u001b[0m\u001b[0;34m,\u001b[0m \u001b[0mdtype\u001b[0m\u001b[0;34m,\u001b[0m \u001b[0mshape\u001b[0m\u001b[0;34m,\u001b[0m \u001b[0mverify_shape\u001b[0m\u001b[0;34m)\u001b[0m\u001b[0;34m\u001b[0m\u001b[0;34m\u001b[0m\u001b[0m\n\u001b[0m\u001b[1;32m    284\u001b[0m \u001b[0;34m\u001b[0m\u001b[0m\n\u001b[1;32m    285\u001b[0m   \u001b[0mg\u001b[0m \u001b[0;34m=\u001b[0m \u001b[0mops\u001b[0m\u001b[0;34m.\u001b[0m\u001b[0mget_default_graph\u001b[0m\u001b[0;34m(\u001b[0m\u001b[0;34m)\u001b[0m\u001b[0;34m\u001b[0m\u001b[0;34m\u001b[0m\u001b[0m\n",
            "\u001b[0;32m/usr/local/lib/python3.7/dist-packages/tensorflow/python/framework/constant_op.py\u001b[0m in \u001b[0;36m_constant_eager_impl\u001b[0;34m(ctx, value, dtype, shape, verify_shape)\u001b[0m\n\u001b[1;32m    306\u001b[0m \u001b[0;32mdef\u001b[0m \u001b[0m_constant_eager_impl\u001b[0m\u001b[0;34m(\u001b[0m\u001b[0mctx\u001b[0m\u001b[0;34m,\u001b[0m \u001b[0mvalue\u001b[0m\u001b[0;34m,\u001b[0m \u001b[0mdtype\u001b[0m\u001b[0;34m,\u001b[0m \u001b[0mshape\u001b[0m\u001b[0;34m,\u001b[0m \u001b[0mverify_shape\u001b[0m\u001b[0;34m)\u001b[0m\u001b[0;34m:\u001b[0m\u001b[0;34m\u001b[0m\u001b[0;34m\u001b[0m\u001b[0m\n\u001b[1;32m    307\u001b[0m   \u001b[0;34m\"\"\"Creates a constant on the current device.\"\"\"\u001b[0m\u001b[0;34m\u001b[0m\u001b[0;34m\u001b[0m\u001b[0m\n\u001b[0;32m--> 308\u001b[0;31m   \u001b[0mt\u001b[0m \u001b[0;34m=\u001b[0m \u001b[0mconvert_to_eager_tensor\u001b[0m\u001b[0;34m(\u001b[0m\u001b[0mvalue\u001b[0m\u001b[0;34m,\u001b[0m \u001b[0mctx\u001b[0m\u001b[0;34m,\u001b[0m \u001b[0mdtype\u001b[0m\u001b[0;34m)\u001b[0m\u001b[0;34m\u001b[0m\u001b[0;34m\u001b[0m\u001b[0m\n\u001b[0m\u001b[1;32m    309\u001b[0m   \u001b[0;32mif\u001b[0m \u001b[0mshape\u001b[0m \u001b[0;32mis\u001b[0m \u001b[0;32mNone\u001b[0m\u001b[0;34m:\u001b[0m\u001b[0;34m\u001b[0m\u001b[0;34m\u001b[0m\u001b[0m\n\u001b[1;32m    310\u001b[0m     \u001b[0;32mreturn\u001b[0m \u001b[0mt\u001b[0m\u001b[0;34m\u001b[0m\u001b[0;34m\u001b[0m\u001b[0m\n",
            "\u001b[0;32m/usr/local/lib/python3.7/dist-packages/tensorflow/python/framework/constant_op.py\u001b[0m in \u001b[0;36mconvert_to_eager_tensor\u001b[0;34m(value, ctx, dtype)\u001b[0m\n\u001b[1;32m    104\u001b[0m       \u001b[0mdtype\u001b[0m \u001b[0;34m=\u001b[0m \u001b[0mdtypes\u001b[0m\u001b[0;34m.\u001b[0m\u001b[0mas_dtype\u001b[0m\u001b[0;34m(\u001b[0m\u001b[0mdtype\u001b[0m\u001b[0;34m)\u001b[0m\u001b[0;34m.\u001b[0m\u001b[0mas_datatype_enum\u001b[0m\u001b[0;34m\u001b[0m\u001b[0;34m\u001b[0m\u001b[0m\n\u001b[1;32m    105\u001b[0m   \u001b[0mctx\u001b[0m\u001b[0;34m.\u001b[0m\u001b[0mensure_initialized\u001b[0m\u001b[0;34m(\u001b[0m\u001b[0;34m)\u001b[0m\u001b[0;34m\u001b[0m\u001b[0;34m\u001b[0m\u001b[0m\n\u001b[0;32m--> 106\u001b[0;31m   \u001b[0;32mreturn\u001b[0m \u001b[0mops\u001b[0m\u001b[0;34m.\u001b[0m\u001b[0mEagerTensor\u001b[0m\u001b[0;34m(\u001b[0m\u001b[0mvalue\u001b[0m\u001b[0;34m,\u001b[0m \u001b[0mctx\u001b[0m\u001b[0;34m.\u001b[0m\u001b[0mdevice_name\u001b[0m\u001b[0;34m,\u001b[0m \u001b[0mdtype\u001b[0m\u001b[0;34m)\u001b[0m\u001b[0;34m\u001b[0m\u001b[0;34m\u001b[0m\u001b[0m\n\u001b[0m\u001b[1;32m    107\u001b[0m \u001b[0;34m\u001b[0m\u001b[0m\n\u001b[1;32m    108\u001b[0m \u001b[0;34m\u001b[0m\u001b[0m\n",
            "\u001b[0;31mTypeError\u001b[0m: Cannot convert 'hi' to EagerTensor of dtype float"
          ]
        }
      ]
    },
    {
      "cell_type": "code",
      "metadata": {
        "id": "EBxfKDiWhvij"
      },
      "source": [],
      "execution_count": null,
      "outputs": []
    }
  ]
}